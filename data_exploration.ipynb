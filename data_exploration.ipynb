{
 "cells": [
  {
   "cell_type": "markdown",
   "metadata": {},
   "source": [
    "# West Nile Virus Data Exploration\n",
    "\n",
    "This notebook explores the West Nile Virus prediction dataset to understand patterns, distributions, and relationships in the data."
   ]
  },
  {
   "cell_type": "code",
   "execution_count": null,
   "metadata": {},
   "outputs": [],
   "source": [
    "import pandas as pd\n",
    "import numpy as np\n",
    "import matplotlib.pyplot as plt\n",
    "import seaborn as sns\n",
    "from datetime import datetime\n",
    "import warnings\n",
    "warnings.filterwarnings('ignore')\n",
    "\n",
    "# Set plot style\n",
    "plt.style.use('default')\n",
    "sns.set_palette('husl')\n",
    "plt.rcParams['figure.figsize'] = (12, 8)"
   ]
  },
  {
   "cell_type": "markdown",
   "metadata": {},
   "source": [
    "## 1. Data Loading"
   ]
  },
  {
   "cell_type": "code",
   "execution_count": null,
   "metadata": {},
   "outputs": [],
   "source": [
    "# Load datasets\n",
    "train_df = pd.read_csv('data/train.csv')\n",
    "test_df = pd.read_csv('data/test.csv')\n",
    "weather_df = pd.read_csv('data/weather.csv')\n",
    "spray_df = pd.read_csv('data/spray.csv')\n",
    "\n",
    "print(\"Dataset shapes:\")\n",
    "print(f\"Training data: {train_df.shape}\")\n",
    "print(f\"Test data: {test_df.shape}\")\n",
    "print(f\"Weather data: {weather_df.shape}\")\n",
    "print(f\"Spray data: {spray_df.shape}\")"
   ]
  },
  {
   "cell_type": "markdown",
   "metadata": {},
   "source": [
    "## 2. Training Data Overview"
   ]
  },
  {
   "cell_type": "code",
   "execution_count": null,
   "metadata": {},
   "outputs": [],
   "source": [
    "# Basic info about training data\n",
    "print(\"Training Data Info:\")\n",
    "print(train_df.info())\n",
    "print(\"\\nFirst few rows:\")\n",
    "train_df.head()"
   ]
  },
  {
   "cell_type": "code",
   "execution_count": null,
   "metadata": {},
   "outputs": [],
   "source": [
    "# Summary statistics\n",
    "print(\"Training Data Summary:\")\n",
    "train_df.describe()"
   ]
  },
  {
   "cell_type": "code",
   "execution_count": null,
   "metadata": {},
   "outputs": [],
   "source": [
    "# Check for missing values\n",
    "print(\"Missing values in training data:\")\n",
    "missing_values = train_df.isnull().sum()\n",
    "missing_values[missing_values > 0]"
   ]
  },
  {
   "cell_type": "markdown",
   "metadata": {},
   "source": [
    "## 3. Target Variable Analysis (WnvPresent)"
   ]
  },
  {
   "cell_type": "code",
   "execution_count": null,
   "metadata": {},
   "outputs": [],
   "source": [
    "# Target variable distribution\n",
    "fig, axes = plt.subplots(1, 2, figsize=(15, 6))\n",
    "\n",
    "# Count plot\n",
    "wnv_counts = train_df['WnvPresent'].value_counts()\n",
    "axes[0].bar(wnv_counts.index, wnv_counts.values, color=['skyblue', 'lightcoral'])\n",
    "axes[0].set_title('West Nile Virus Presence Distribution')\n",
    "axes[0].set_xlabel('WnvPresent')\n",
    "axes[0].set_ylabel('Count')\n",
    "axes[0].set_xticks([0, 1])\n",
    "axes[0].set_xticklabels(['Absent', 'Present'])\n",
    "\n",
    "# Add count labels\n",
    "for i, v in enumerate(wnv_counts.values):\n",
    "    axes[0].text(i, v + 100, str(v), ha='center', va='bottom')\n",
    "\n",
    "# Pie chart\n",
    "axes[1].pie(wnv_counts.values, labels=['Absent', 'Present'], autopct='%1.1f%%', \n",
    "           colors=['skyblue', 'lightcoral'])\n",
    "axes[1].set_title('WNV Presence Proportion')\n",
    "\n",
    "plt.tight_layout()\n",
    "plt.show()\n",
    "\n",
    "# Print statistics\n",
    "total_samples = len(train_df)\n",
    "positive_samples = train_df['WnvPresent'].sum()\n",
    "negative_samples = total_samples - positive_samples\n",
    "imbalance_ratio = negative_samples / positive_samples\n",
    "\n",
    "print(f\"Total samples: {total_samples:,}\")\n",
    "print(f\"Positive samples (WNV Present): {positive_samples:,} ({positive_samples/total_samples*100:.2f}%)\")\n",
    "print(f\"Negative samples (WNV Absent): {negative_samples:,} ({negative_samples/total_samples*100:.2f}%)\")\n",
    "print(f\"Class imbalance ratio: {imbalance_ratio:.1f}:1\")"
   ]
  },
  {
   "cell_type": "markdown",
   "metadata": {},
   "source": [
    "## 4. Species Analysis"
   ]
  },
  {
   "cell_type": "code",
   "execution_count": null,
   "metadata": {},
   "outputs": [],
   "source": [
    "# Species distribution\n",
    "fig, axes = plt.subplots(2, 1, figsize=(15, 12))\n",
    "\n",
    "# Overall species count\n",
    "species_counts = train_df['Species'].value_counts()\n",
    "axes[0].bar(range(len(species_counts)), species_counts.values)\n",
    "axes[0].set_title('Mosquito Species Distribution')\n",
    "axes[0].set_xlabel('Species')\n",
    "axes[0].set_ylabel('Count')\n",
    "axes[0].set_xticks(range(len(species_counts)))\n",
    "axes[0].set_xticklabels(species_counts.index, rotation=45, ha='right')\n",
    "\n",
    "# WNV presence by species\n",
    "species_wnv = train_df.groupby('Species')['WnvPresent'].agg(['count', 'sum', 'mean']).reset_index()\n",
    "species_wnv.columns = ['Species', 'Total_Samples', 'WNV_Positive', 'WNV_Rate']\n",
    "species_wnv = species_wnv.sort_values('WNV_Rate', ascending=False)\n",
    "\n",
    "bars = axes[1].bar(range(len(species_wnv)), species_wnv['WNV_Rate'])\n",
    "axes[1].set_title('West Nile Virus Rate by Species')\n",
    "axes[1].set_xlabel('Species')\n",
    "axes[1].set_ylabel('WNV Positive Rate')\n",
    "axes[1].set_xticks(range(len(species_wnv)))\n",
    "axes[1].set_xticklabels(species_wnv['Species'], rotation=45, ha='right')\n",
    "\n",
    "# Add value labels on bars\n",
    "for i, bar in enumerate(bars):\n",
    "    height = bar.get_height()\n",
    "    axes[1].text(bar.get_x() + bar.get_width()/2., height + 0.001,\n",
    "                f'{height:.3f}', ha='center', va='bottom')\n",
    "\n",
    "plt.tight_layout()\n",
    "plt.show()\n",
    "\n",
    "print(\"\\nWest Nile Virus by Species:\")\n",
    "print(species_wnv.to_string(index=False))"
   ]
  },
  {
   "cell_type": "markdown",
   "metadata": {},
   "source": [
    "## 5. Temporal Analysis"
   ]
  },
  {
   "cell_type": "code",
   "execution_count": null,
   "metadata": {},
   "outputs": [],
   "source": [
    "# Convert Date column to datetime\n",
    "train_df['Date'] = pd.to_datetime(train_df['Date'])\n",
    "train_df['Year'] = train_df['Date'].dt.year\n",
    "train_df['Month'] = train_df['Date'].dt.month\n",
    "train_df['DayOfYear'] = train_df['Date'].dt.dayofyear\n",
    "train_df['Week'] = train_df['Date'].dt.isocalendar().week\n",
    "\n",
    "fig, axes = plt.subplots(2, 2, figsize=(20, 15))\n",
    "\n",
    "# WNV by Year\n",
    "yearly_wnv = train_df.groupby('Year')['WnvPresent'].agg(['count', 'sum', 'mean']).reset_index()\n",
    "yearly_wnv.columns = ['Year', 'Total_Samples', 'WNV_Positive', 'WNV_Rate']\n",
    "\n",
    "bars1 = axes[0,0].bar(yearly_wnv['Year'], yearly_wnv['WNV_Rate'])\n",
    "axes[0,0].set_title('WNV Rate by Year')\n",
    "axes[0,0].set_xlabel('Year')\n",
    "axes[0,0].set_ylabel('WNV Positive Rate')\n",
    "\n",
    "# WNV by Month\n",
    "monthly_wnv = train_df.groupby('Month')['WnvPresent'].agg(['count', 'sum', 'mean']).reset_index()\n",
    "monthly_wnv.columns = ['Month', 'Total_Samples', 'WNV_Positive', 'WNV_Rate']\n",
    "\n",
    "bars2 = axes[0,1].bar(monthly_wnv['Month'], monthly_wnv['WNV_Rate'])\n",
    "axes[0,1].set_title('WNV Rate by Month')\n",
    "axes[0,1].set_xlabel('Month')\n",
    "axes[0,1].set_ylabel('WNV Positive Rate')\n",
    "axes[0,1].set_xticks(range(1, 13))\n",
    "\n",
    "# WNV by Week\n",
    "weekly_wnv = train_df.groupby('Week')['WnvPresent'].agg(['count', 'sum', 'mean']).reset_index()\n",
    "weekly_wnv.columns = ['Week', 'Total_Samples', 'WNV_Positive', 'WNV_Rate']\n",
    "\n",
    "axes[1,0].plot(weekly_wnv['Week'], weekly_wnv['WNV_Rate'], marker='o')\n",
    "axes[1,0].set_title('WNV Rate by Week of Year')\n",
    "axes[1,0].set_xlabel('Week')\n",
    "axes[1,0].set_ylabel('WNV Positive Rate')\n",
    "axes[1,0].grid(True, alpha=0.3)\n",
    "\n",
    "# Sample count over time\n",
    "date_counts = train_df.groupby('Date').size().reset_index(name='Count')\n",
    "axes[1,1].plot(date_counts['Date'], date_counts['Count'])\n",
    "axes[1,1].set_title('Sampling Activity Over Time')\n",
    "axes[1,1].set_xlabel('Date')\n",
    "axes[1,1].set_ylabel('Number of Samples')\n",
    "axes[1,1].tick_params(axis='x', rotation=45)\n",
    "\n",
    "plt.tight_layout()\n",
    "plt.show()\n",
    "\n",
    "print(\"\\nWNV Rate by Year:\")\n",
    "print(yearly_wnv.to_string(index=False))\n",
    "print(\"\\nWNV Rate by Month:\")\n",
    "print(monthly_wnv.to_string(index=False))"
   ]
  },
  {
   "cell_type": "markdown",
   "metadata": {},
   "source": [
    "## 6. Geographic Analysis"
   ]
  },
  {
   "cell_type": "code",
   "execution_count": null,
   "metadata": {},
   "outputs": [],
   "source": [
    "# Geographic distribution\n",
    "fig, axes = plt.subplots(1, 3, figsize=(20, 6))\n",
    "\n",
    "# All samples scatter plot\n",
    "axes[0].scatter(train_df['Longitude'], train_df['Latitude'], alpha=0.5, s=1)\n",
    "axes[0].set_title('All Trap Locations')\n",
    "axes[0].set_xlabel('Longitude')\n",
    "axes[0].set_ylabel('Latitude')\n",
    "\n",
    "# WNV positive samples\n",
    "wnv_positive = train_df[train_df['WnvPresent'] == 1]\n",
    "wnv_negative = train_df[train_df['WnvPresent'] == 0]\n",
    "\n",
    "axes[1].scatter(wnv_negative['Longitude'], wnv_negative['Latitude'], \n",
    "               alpha=0.3, s=1, color='blue', label='WNV Negative')\n",
    "axes[1].scatter(wnv_positive['Longitude'], wnv_positive['Latitude'], \n",
    "               alpha=0.8, s=5, color='red', label='WNV Positive')\n",
    "axes[1].set_title('WNV Distribution by Location')\n",
    "axes[1].set_xlabel('Longitude')\n",
    "axes[1].set_ylabel('Latitude')\n",
    "axes[1].legend()\n",
    "\n",
    "# Trap locations with WNV rates\n",
    "trap_wnv = train_df.groupby(['Latitude', 'Longitude'])['WnvPresent'].agg(['count', 'sum', 'mean']).reset_index()\n",
    "trap_wnv.columns = ['Latitude', 'Longitude', 'Total_Samples', 'WNV_Positive', 'WNV_Rate']\n",
    "trap_wnv = trap_wnv[trap_wnv['Total_Samples'] >= 10]  # Filter traps with sufficient samples\n",
    "\n",
    "scatter = axes[2].scatter(trap_wnv['Longitude'], trap_wnv['Latitude'], \n",
    "                         c=trap_wnv['WNV_Rate'], s=trap_wnv['Total_Samples']/5, \n",
    "                         alpha=0.7, cmap='Reds')\n",
    "axes[2].set_title('WNV Rate by Trap Location\\n(Size = Sample Count)')\n",
    "axes[2].set_xlabel('Longitude')\n",
    "axes[2].set_ylabel('Latitude')\n",
    "plt.colorbar(scatter, ax=axes[2], label='WNV Rate')\n",
    "\n",
    "plt.tight_layout()\n",
    "plt.show()\n",
    "\n",
    "print(f\"\\nTotal unique trap locations: {len(trap_wnv)}\")\n",
    "print(f\"Traps with WNV positive samples: {len(trap_wnv[trap_wnv['WNV_Positive'] > 0])}\")\n",
    "print(f\"Highest WNV rate: {trap_wnv['WNV_Rate'].max():.3f}\")\n",
    "print(f\"Average WNV rate across traps: {trap_wnv['WNV_Rate'].mean():.3f}\")"
   ]
  },
  {
   "cell_type": "markdown",
   "metadata": {},
   "source": [
    "## 7. NumMosquitos Analysis"
   ]
  },
  {
   "cell_type": "code",
   "execution_count": null,
   "metadata": {},
   "outputs": [],
   "source": [
    "# NumMosquitos analysis\n",
    "fig, axes = plt.subplots(2, 2, figsize=(15, 12))\n",
    "\n",
    "# Distribution of NumMosquitos\n",
    "axes[0,0].hist(train_df['NumMosquitos'], bins=50, alpha=0.7, edgecolor='black')\n",
    "axes[0,0].set_title('Distribution of Number of Mosquitos')\n",
    "axes[0,0].set_xlabel('Number of Mosquitos')\n",
    "axes[0,0].set_ylabel('Frequency')\n",
    "\n",
    "# Log scale\n",
    "axes[0,1].hist(np.log1p(train_df['NumMosquitos']), bins=50, alpha=0.7, edgecolor='black')\n",
    "axes[0,1].set_title('Distribution of log(NumMosquitos + 1)')\n",
    "axes[0,1].set_xlabel('log(Number of Mosquitos + 1)')\n",
    "axes[0,1].set_ylabel('Frequency')\n",
    "\n",
    "# NumMosquitos vs WNV\n",
    "mosquito_wnv = train_df.groupby('NumMosquitos')['WnvPresent'].agg(['count', 'sum', 'mean']).reset_index()\n",
    "mosquito_wnv.columns = ['NumMosquitos', 'Total_Samples', 'WNV_Positive', 'WNV_Rate']\n",
    "mosquito_wnv = mosquito_wnv[mosquito_wnv['Total_Samples'] >= 10]  # Filter for sufficient samples\n",
    "\n",
    "axes[1,0].scatter(mosquito_wnv['NumMosquitos'], mosquito_wnv['WNV_Rate'], \n",
    "                 s=mosquito_wnv['Total_Samples']/5, alpha=0.7)\n",
    "axes[1,0].set_title('WNV Rate vs Number of Mosquitos\\n(Size = Sample Count)')\n",
    "axes[1,0].set_xlabel('Number of Mosquitos')\n",
    "axes[1,0].set_ylabel('WNV Rate')\n",
    "\n",
    "# Box plot\n",
    "wnv_neg_mosquitos = train_df[train_df['WnvPresent'] == 0]['NumMosquitos']\n",
    "wnv_pos_mosquitos = train_df[train_df['WnvPresent'] == 1]['NumMosquitos']\n",
    "\n",
    "axes[1,1].boxplot([wnv_neg_mosquitos, wnv_pos_mosquitos], \n",
    "                 labels=['WNV Negative', 'WNV Positive'])\n",
    "axes[1,1].set_title('NumMosquitos Distribution by WNV Status')\n",
    "axes[1,1].set_ylabel('Number of Mosquitos')\n",
    "\n",
    "plt.tight_layout()\n",
    "plt.show()\n",
    "\n",
    "print(\"\\nNumMosquitos Statistics:\")\n",
    "print(f\"Mean: {train_df['NumMosquitos'].mean():.2f}\")\n",
    "print(f\"Median: {train_df['NumMosquitos'].median():.2f}\")\n",
    "print(f\"Max: {train_df['NumMosquitos'].max()}\")\n",
    "print(f\"Min: {train_df['NumMosquitos'].min()}\")\n",
    "\n",
    "print(\"\\nNumMosquitos by WNV Status:\")\n",
    "print(f\"WNV Negative - Mean: {wnv_neg_mosquitos.mean():.2f}, Median: {wnv_neg_mosquitos.median():.2f}\")\n",
    "print(f\"WNV Positive - Mean: {wnv_pos_mosquitos.mean():.2f}, Median: {wnv_pos_mosquitos.median():.2f}\")"
   ]
  },
  {
   "cell_type": "markdown",
   "metadata": {},
   "source": [
    "## 8. Weather Data Analysis"
   ]
  },
  {
   "cell_type": "code",
   "execution_count": null,
   "metadata": {},
   "outputs": [],
   "source": [
    "# Weather data overview\n",
    "print(\"Weather Data Info:\")\n",
    "print(weather_df.info())\n",
    "print(\"\\nWeather Data Summary:\")\n",
    "weather_df.describe()"
   ]
  },
  {
   "cell_type": "code",
   "execution_count": null,
   "metadata": {},
   "outputs": [],
   "source": "# Convert weather date and clean data\nweather_df['Date'] = pd.to_datetime(weather_df['Date'])\n\n# Debug: Check PrecipTotal column\nprint(\"Debug - Weather columns:\")\nprint(weather_df.columns.tolist())\nprint(f\"\\nPrecipTotal sample values: {weather_df['PrecipTotal'].head(10).tolist()}\")\nprint(f\"PrecipTotal unique values (first 10): {weather_df['PrecipTotal'].unique()[:10]}\")\n\n# Handle missing values and convert to numeric\nnumeric_columns = ['Tmax', 'Tmin', 'Tavg', 'DewPoint', 'WetBulb', 'PrecipTotal', \n                  'StnPressure', 'SeaLevel', 'ResultSpeed', 'AvgSpeed']\n\nfor col in numeric_columns:\n    if col in weather_df.columns:\n        # Special handling for PrecipTotal which may have 'T' for trace amounts\n        if col == 'PrecipTotal':\n            weather_df[col] = weather_df[col].replace('T', '0.005')  # Replace 'T' with small value\n            weather_df[col] = weather_df[col].replace('  T', '0.005')  # Handle padded 'T'\n        weather_df[col] = pd.to_numeric(weather_df[col], errors='coerce')\n    else:\n        print(f\"Warning: Column {col} not found in weather data\")\n\n# Check missing values in weather data\nprint(\"\\nMissing values in weather data:\")\nmissing_weather = weather_df.isnull().sum()\nprint(missing_weather[missing_weather > 0])"
  },
  {
   "cell_type": "code",
   "execution_count": null,
   "metadata": {},
   "outputs": [],
   "source": "# Weather trends\nfig, axes = plt.subplots(2, 2, figsize=(20, 12))\n\n# Temperature trends\nweather_stations = weather_df.groupby(['Date', 'Station'])[['Tmax', 'Tmin', 'Tavg']].mean().reset_index()\nweather_avg = weather_stations.groupby('Date')[['Tmax', 'Tmin', 'Tavg']].mean().reset_index()\n\naxes[0,0].plot(weather_avg['Date'], weather_avg['Tmax'], label='Max Temp', alpha=0.8)\naxes[0,0].plot(weather_avg['Date'], weather_avg['Tavg'], label='Avg Temp', alpha=0.8)\naxes[0,0].plot(weather_avg['Date'], weather_avg['Tmin'], label='Min Temp', alpha=0.8)\naxes[0,0].set_title('Temperature Trends Over Time')\naxes[0,0].set_xlabel('Date')\naxes[0,0].set_ylabel('Temperature (°F)')\naxes[0,0].legend()\naxes[0,0].tick_params(axis='x', rotation=45)\n\n# Precipitation - check if PrecipTotal exists and has data\nif 'PrecipTotal' in weather_df.columns and weather_df['PrecipTotal'].notna().any():\n    precip_stations = weather_df.groupby(['Date', 'Station'])['PrecipTotal'].mean().reset_index()\n    precip_avg = precip_stations.groupby('Date')['PrecipTotal'].mean().reset_index()\n    axes[0,1].plot(precip_avg['Date'], precip_avg['PrecipTotal'])\n    axes[0,1].set_title('Precipitation Over Time')\n    axes[0,1].set_xlabel('Date')\n    axes[0,1].set_ylabel('Precipitation (inches)')\n    axes[0,1].tick_params(axis='x', rotation=45)\nelse:\n    axes[0,1].text(0.5, 0.5, 'PrecipTotal data not available', ha='center', va='center', transform=axes[0,1].transAxes)\n    axes[0,1].set_title('Precipitation Over Time - Data Not Available')\n\n# DewPoint\ndewpoint_stations = weather_df.groupby(['Date', 'Station'])['DewPoint'].mean().reset_index()\ndewpoint_avg = dewpoint_stations.groupby('Date')['DewPoint'].mean().reset_index()\naxes[1,0].plot(dewpoint_avg['Date'], dewpoint_avg['DewPoint'])\naxes[1,0].set_title('Dew Point Over Time')\naxes[1,0].set_xlabel('Date')\naxes[1,0].set_ylabel('Dew Point (°F)')\naxes[1,0].tick_params(axis='x', rotation=45)\n\n# Wind Speed\nwind_stations = weather_df.groupby(['Date', 'Station'])['AvgSpeed'].mean().reset_index()\nwind_avg = wind_stations.groupby('Date')['AvgSpeed'].mean().reset_index()\naxes[1,1].plot(wind_avg['Date'], wind_avg['AvgSpeed'])\naxes[1,1].set_title('Average Wind Speed Over Time')\naxes[1,1].set_xlabel('Date')\naxes[1,1].set_ylabel('Wind Speed (mph)')\naxes[1,1].tick_params(axis='x', rotation=45)\n\nplt.tight_layout()\nplt.show()"
  },
  {
   "cell_type": "markdown",
   "metadata": {},
   "source": [
    "## 9. Spray Data Analysis"
   ]
  },
  {
   "cell_type": "code",
   "execution_count": null,
   "metadata": {},
   "outputs": [],
   "source": [
    "# Spray data overview\n",
    "print(\"Spray Data Info:\")\n",
    "print(spray_df.info())\n",
    "print(\"\\nSpray Data Summary:\")\n",
    "spray_df.describe()\n",
    "\n",
    "spray_df['Date'] = pd.to_datetime(spray_df['Date'])\n",
    "print(f\"\\nSpray date range: {spray_df['Date'].min()} to {spray_df['Date'].max()}\")\n",
    "print(f\"Total spray locations: {len(spray_df)}\")\n",
    "print(f\"Unique spray dates: {spray_df['Date'].nunique()}\")"
   ]
  },
  {
   "cell_type": "code",
   "execution_count": null,
   "metadata": {},
   "outputs": [],
   "source": [
    "# Spray locations visualization\n",
    "fig, axes = plt.subplots(1, 2, figsize=(20, 8))\n",
    "\n",
    "# Spray locations\n",
    "axes[0].scatter(spray_df['Longitude'], spray_df['Latitude'], alpha=0.6, s=1, color='green')\n",
    "axes[0].set_title('Spray Locations')\n",
    "axes[0].set_xlabel('Longitude')\n",
    "axes[0].set_ylabel('Latitude')\n",
    "\n",
    "# Spray activity over time\n",
    "spray_daily = spray_df.groupby('Date').size().reset_index(name='Count')\n",
    "axes[1].plot(spray_daily['Date'], spray_daily['Count'], marker='o')\n",
    "axes[1].set_title('Daily Spray Activity')\n",
    "axes[1].set_xlabel('Date')\n",
    "axes[1].set_ylabel('Number of Spray Locations')\n",
    "axes[1].tick_params(axis='x', rotation=45)\n",
    "\n",
    "plt.tight_layout()\n",
    "plt.show()"
   ]
  },
  {
   "cell_type": "markdown",
   "metadata": {},
   "source": [
    "## 10. Correlation Analysis"
   ]
  },
  {
   "cell_type": "code",
   "execution_count": null,
   "metadata": {},
   "outputs": [],
   "source": [
    "# Create a merged dataset for correlation analysis\n",
    "# First, let's merge train data with weather data\n",
    "weather_avg_daily = weather_df.groupby('Date')[numeric_columns].mean().reset_index()\n",
    "train_with_weather = train_df.merge(weather_avg_daily, on='Date', how='left')\n",
    "\n",
    "# Select numeric columns for correlation\n",
    "numeric_train_cols = ['Latitude', 'Longitude', 'NumMosquitos', 'WnvPresent', 'Year', 'Month', 'DayOfYear', 'Week']\n",
    "correlation_cols = numeric_train_cols + [col for col in numeric_columns if col in train_with_weather.columns]\n",
    "\n",
    "# Calculate correlation matrix\n",
    "correlation_data = train_with_weather[correlation_cols].corr()\n",
    "\n",
    "# Plot correlation heatmap\n",
    "plt.figure(figsize=(15, 12))\n",
    "mask = np.triu(np.ones_like(correlation_data, dtype=bool))\n",
    "sns.heatmap(correlation_data, mask=mask, annot=True, cmap='coolwarm', center=0,\n",
    "            square=True, fmt='.2f', cbar_kws={'shrink': 0.8})\n",
    "plt.title('Correlation Matrix of Numeric Variables')\n",
    "plt.tight_layout()\n",
    "plt.show()\n",
    "\n",
    "# Show correlations with WnvPresent\n",
    "wnv_correlations = correlation_data['WnvPresent'].abs().sort_values(ascending=False)\n",
    "print(\"\\nCorrelations with WnvPresent (absolute values):\")\n",
    "print(wnv_correlations[wnv_correlations.index != 'WnvPresent'])"
   ]
  },
  {
   "cell_type": "markdown",
   "metadata": {},
   "source": [
    "## 11. Key Insights Summary"
   ]
  },
  {
   "cell_type": "code",
   "execution_count": null,
   "metadata": {},
   "outputs": [],
   "source": [
    "print(\"=\" * 60)\n",
    "print(\"KEY INSIGHTS FROM DATA EXPLORATION\")\n",
    "print(\"=\" * 60)\n",
    "\n",
    "print(\"\\n1. CLASS IMBALANCE:\")\n",
    "print(f\"   - Only {positive_samples/total_samples*100:.2f}% of samples are WNV positive\")\n",
    "print(f\"   - Imbalance ratio: {imbalance_ratio:.1f}:1 (negative:positive)\")\n",
    "\n",
    "print(\"\\n2. SPECIES ANALYSIS:\")\n",
    "species_wnv_top = species_wnv.head(3)\n",
    "print(f\"   - {len(species_counts)} different mosquito species\")\n",
    "print(f\"   - Top 3 species by WNV rate:\")\n",
    "for _, row in species_wnv_top.iterrows():\n",
    "    print(f\"     * {row['Species']}: {row['WNV_Rate']:.3f} ({row['WNV_Positive']}/{row['Total_Samples']} samples)\")\n",
    "\n",
    "print(\"\\n3. TEMPORAL PATTERNS:\")\n",
    "peak_month = monthly_wnv.loc[monthly_wnv['WNV_Rate'].idxmax()]\n",
    "peak_week = weekly_wnv.loc[weekly_wnv['WNV_Rate'].idxmax()]\n",
    "print(f\"   - Peak month: {peak_month['Month']} (WNV rate: {peak_month['WNV_Rate']:.3f})\")\n",
    "print(f\"   - Peak week: {peak_week['Week']} (WNV rate: {peak_week['WNV_Rate']:.3f})\")\n",
    "print(f\"   - Data spans {train_df['Year'].min()} to {train_df['Year'].max()}\")\n",
    "\n",
    "print(\"\\n4. GEOGRAPHIC DISTRIBUTION:\")\n",
    "print(f\"   - {len(trap_wnv)} unique trap locations with sufficient data\")\n",
    "print(f\"   - {len(trap_wnv[trap_wnv['WNV_Positive'] > 0])} traps have recorded WNV positive samples\")\n",
    "print(f\"   - Highest WNV rate at a single trap: {trap_wnv['WNV_Rate'].max():.3f}\")\n",
    "\n",
    "print(\"\\n5. MOSQUITO COUNT PATTERNS:\")\n",
    "print(f\"   - Average mosquitos per sample: {train_df['NumMosquitos'].mean():.2f}\")\n",
    "print(f\"   - WNV positive samples have higher mosquito counts on average\")\n",
    "print(f\"   - WNV Negative: {wnv_neg_mosquitos.mean():.2f} mosquitos\")\n",
    "print(f\"   - WNV Positive: {wnv_pos_mosquitos.mean():.2f} mosquitos\")\n",
    "\n",
    "print(\"\\n6. STRONGEST CORRELATIONS WITH WNV:\")\n",
    "top_correlations = wnv_correlations.head(6)  # Top 5 + WnvPresent itself\n",
    "for var, corr in top_correlations.items():\n",
    "    if var != 'WnvPresent':\n",
    "        print(f\"   - {var}: {corr:.3f}\")\n",
    "\n",
    "print(\"\\n\" + \"=\" * 60)"
   ]
  }
 ],
 "metadata": {
  "kernelspec": {
   "display_name": "Python 3",
   "language": "python",
   "name": "python3"
  },
  "language_info": {
   "codemirror_mode": {
    "name": "ipython",
    "version": 3
   },
   "file_extension": ".py",
   "mimetype": "text/x-python",
   "name": "python",
   "nbconvert_exporter": "python",
   "pygments_lexer": "ipython3",
   "version": "3.8.5"
  }
 },
 "nbformat": 4,
 "nbformat_minor": 4
}